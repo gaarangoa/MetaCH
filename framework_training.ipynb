{
 "cells": [
  {
   "cell_type": "code",
   "execution_count": 1,
   "metadata": {},
   "outputs": [],
   "source": [
    "%load_ext autoreload\n",
    "%autoreload 2\n",
    "import os\n",
    "import pandas as pd\n",
    "import numpy as np \n",
    "import random\n",
    "from pyfaidx import Fasta\n",
    "from tqdm.auto import tqdm\n",
    "import pickle as pk\n",
    "from flaml import AutoML\n",
    "from collections import Counter\n",
    "\n",
    "# ------------\n",
    "from metaCH.src.feature_extraction.extract_features import extract_features\n",
    "from metaCH.src.classification.training import cfDNA_classifier_train_save, seq_classifier_train_save,cfDNA_classifier_train, meta_classifier_train_save\n",
    "from metaCH.src.utils import load_config\n",
    "config = load_config()"
   ]
  },
  {
   "cell_type": "code",
   "execution_count": 2,
   "metadata": {},
   "outputs": [],
   "source": []
  },
  {
   "cell_type": "markdown",
   "metadata": {},
   "source": [
    "# Stage 1"
   ]
  },
  {
   "cell_type": "markdown",
   "metadata": {},
   "source": [
    "## Training the METk model\n",
    "- The instruction on how to train the METk model can be found in the [METk repo](https://github.com/gaarangoa/METk)\n",
    "- METk weights can be downloaded from below\n",
    "https://github.com/gaarangoa/METk?tab=readme-ov-file#download-metk-embeddings"
   ]
  },
  {
   "cell_type": "code",
   "execution_count": null,
   "metadata": {},
   "outputs": [],
   "source": []
  },
  {
   "cell_type": "markdown",
   "metadata": {},
   "source": [
    "# Stage 2"
   ]
  },
  {
   "cell_type": "markdown",
   "metadata": {},
   "source": [
    "## 2.a cfDNA-based classifier training"
   ]
  },
  {
   "cell_type": "code",
   "execution_count": null,
   "metadata": {
    "tags": []
   },
   "outputs": [],
   "source": [
    "### Read/preprocess Razavi cfDNA data\n",
    "path_razavi_dataset = config[\"path_info\"][\"path_razavi_dataset\"]\n",
    "\n",
    "genomics_table_path=path_razavi_dataset+'/Razavi.CHIP.tsv'\n",
    "clinical_table_path=path_razavi_dataset+'/41591_2019_652_MOESM8_ESM.xlsx'\n",
    "genomics_table = pd.read_csv(genomics_table_path, sep='\\t')\n",
    "clinical_table = pd.read_excel(clinical_table_path, sheet_name=2, skiprows=0, engine='openpyxl').drop_duplicates(['patient_id'])\n",
    "\n",
    "genomics_table['Gene_Name']=genomics_table['Hugo_Symbol']\n",
    "genomics_table['Tumor_Allele_1']=genomics_table['Tumor_Allele']\n",
    "genomics_table['Tumor_Allele_2']=genomics_table['Tumor_Allele']\n",
    "genomics_table['Variant_Type']=genomics_table['Mutation_Type'].\\\n",
    "replace({'Small insertion': 'INS','Small deletion': 'DEL','Single base substitution': 'SNP'})\n",
    "genomics_table['Reference_Genome']='GRCh37'\n",
    "genomics_table['CANCER_TYPE'] = [\n",
    "    'Non-Small Cell Lung Cancer' if i == 'Lung' else 'Prostate Cancer' if i == 'Prostate' else 'Breast Cancer' if i == 'Breast' else 'Control' for i in genomics_table.tissue\n",
    "]\n",
    "genomics_table = genomics_table[genomics_table.Trial.isin(['Razavi_2019_wbc_matched', 'Razavi_2019_biopsy_matched'])].reset_index(drop=True)\n",
    "genomics_table['label'] = ['Blood' if i == 'Razavi_2019_wbc_matched' else 'Tumor' for i in genomics_table.Trial]\n",
    "genomics_table = genomics_table[genomics_table.CANCER_TYPE != 'Control'].reset_index(drop=True)\n",
    "parsed_data=genomics_table.copy()\n",
    "\n",
    "### Extract features from the parsed data\n",
    "print(genomics_table.shape)\n",
    "features_metk_cfdna = extract_features(parsed_data, 'paper')\n",
    "\n",
    "\n",
    "### Train the cfDNA-based classifier and save the model\n",
    "save_path='./models/cfDNA_classifier.pk'\n",
    "cfDNA_classifier_train_save(features_metk_cfdna, save_path)\n",
    "\n",
    "# from metaCH.src.classification.training import cfDNA_classifier_train\n",
    "# results = cfDNA_classifier_train(features_metk_cfdna, 'paper')"
   ]
  },
  {
   "cell_type": "code",
   "execution_count": null,
   "metadata": {},
   "outputs": [],
   "source": []
  },
  {
   "cell_type": "markdown",
   "metadata": {},
   "source": [
    "## 2.b Sequence-based classifier training"
   ]
  },
  {
   "cell_type": "code",
   "execution_count": null,
   "metadata": {
    "tags": []
   },
   "outputs": [],
   "source": [
    "## Read/Combine/preprocess Tumor+blood sequencing datasets\n",
    "path_cBio_MSK_dataset = config[\"path_info\"][\"path_cBio_MSK_datasets\"]\n",
    "\n",
    "tumor = pd.read_csv(path_cBio_MSK_dataset + '/msk_impact_2017/data_mutations_extended.txt',\\\n",
    "    sep='\\t', low_memory=False, comment='#')\n",
    "tumor['SAMPLE_ORIGIN'] = 'Tumor'\n",
    "\n",
    "clinical_file = path_cBio_MSK_dataset + '/msk_impact_2017/data_clinical_sample.txt'\n",
    "clinical_tumor = pd.read_csv(clinical_file, sep='\\t', low_memory=False, comment='#')\n",
    "\n",
    "clinical_patient_file = path_cBio_MSK_dataset + '/msk_impact_2017/data_clinical_patient.txt'\n",
    "clinical_patient_tumor = pd.read_csv(clinical_patient_file, sep='\\t', low_memory=False, comment='#')\n",
    "\n",
    "clinical_tumor = pd.merge(clinical_tumor, clinical_patient_tumor, on='PATIENT_ID', how='left')\n",
    "clinical_tumor['dataset_origin'] = 'Tumor'\n",
    "\n",
    "# -----------------\n",
    "\n",
    "ch = pd.read_csv(\n",
    "   path_cBio_MSK_dataset + '/msk_ch_2020/data_mutations_extended.txt', \n",
    "    sep='\\t', low_memory=False, comment='#'\n",
    ")\n",
    "ch['SAMPLE_ORIGIN'] = 'Blood'\n",
    "\n",
    "\n",
    "clinical_file = path_cBio_MSK_dataset + '/msk_ch_2020/data_clinical_sample.txt'\n",
    "clinical_chip = pd.read_csv(clinical_file, sep='\\t', low_memory=False, comment='#')\n",
    "\n",
    "clinical_patient_file = path_cBio_MSK_dataset + '/msk_ch_2020/data_clinical_patient.txt'\n",
    "clinical_patient_chip = pd.read_csv(clinical_patient_file, sep='\\t', low_memory=False, comment='#')\n",
    "\n",
    "clinical_chip = pd.merge(clinical_chip, clinical_patient_chip, on='PATIENT_ID', how='left')\n",
    "clinical_chip['dataset_origin'] = 'Blood'\n",
    "\n",
    "# -----------------\n",
    "clinical_data = pd.concat([clinical_tumor, clinical_chip]).drop_duplicates(subset=['SAMPLE_ID'])\n",
    "dataset = pd.concat([tumor, ch])\n",
    "print(Counter(dataset.Variant_Type))\n",
    "dataset= dataset[dataset.Variant_Type.isin(['INS', 'DEL', 'SNP','SNV'])].reset_index(drop=True)\n",
    "dataset['Gene_Name']=dataset['Hugo_Symbol']\n",
    "dataset['Tumor_Allele_1']=dataset['Tumor_Seq_Allele1']\n",
    "dataset['Tumor_Allele_2']=dataset['Tumor_Seq_Allele2']\n",
    "dataset['Sample_ID']=dataset['Tumor_Sample_Barcode']\n",
    "dataset['Reference_Genome']=dataset['NCBI_Build']\n",
    "# -----------------------\n",
    "dataset = dataset[dataset.Variant_Classification != 'Silent'].reset_index(drop=True)\n",
    "dataset = pd.merge(dataset, clinical_data, left_on='Sample_ID', right_on='SAMPLE_ID', how='inner')\n",
    "print(Counter(dataset.Variant_Type))\n",
    "dataset.cbp_driver_annotation.fillna('Tumor', inplace=True)\n",
    "dataset = dataset.drop_duplicates(\n",
    "    subset=['Chromosome', 'Start_Position', 'Reference_Allele', 'Tumor_Allele_1', 'Tumor_Allele_2', 'cbp_driver_annotation', 'HGVSp_Short']\n",
    ")\n",
    "print(Counter(dataset.Variant_Type))\n",
    "\n",
    "# ------------------------- Extract features from the parsed data\n",
    "features_metk_seq = extract_features(dataset, 'paper')\n",
    "\n",
    "# ------------------------- Train the sequence-based classifier and save the model\n",
    "save_path='./models/seq{n}_classifier.pk'\n",
    "seq_classifier_train_save(features_metk_seq, save_path)"
   ]
  },
  {
   "cell_type": "markdown",
   "metadata": {},
   "source": [
    "# Stage 3"
   ]
  },
  {
   "cell_type": "markdown",
   "metadata": {},
   "source": [
    "## training the meta classifier"
   ]
  },
  {
   "cell_type": "code",
   "execution_count": null,
   "metadata": {
    "tags": []
   },
   "outputs": [],
   "source": [
    "master_cfdna_dataset = cfDNA_classifier_train(features_metk_cfdna)\n",
    "\n",
    "[prod_CH, chpd_features] = pk.load(open('./models/seq2_classifier_final.pk', 'rb'))\n",
    "[prod_CHPD, ch_features] = pk.load(open('./models/seq1_classifier_final.pk', 'rb'))\n",
    "    \n",
    "master_cfdna_dataset['CH_seq2'] =prod_CH.predict_proba(master_cfdna_dataset[ch_features])[:, 0]\n",
    "master_cfdna_dataset['CH_seq1'] =prod_CHPD.predict_proba(master_cfdna_dataset[chpd_features])[:, 0]\n",
    "\n",
    "metaclass_features=[\"CH_cfdna\",\"CH_seq2\",\"CH_seq1\"]\n",
    "\n",
    "# ------------------------- Train the meta classifier and save the model\n",
    "save_path='./models/metaClassifier.pk'\n",
    "meta_classifier_train_save(master_cfdna_dataset, metaclass_features, save_path)\n",
    "    "
   ]
  },
  {
   "cell_type": "code",
   "execution_count": null,
   "metadata": {},
   "outputs": [],
   "source": []
  },
  {
   "cell_type": "code",
   "execution_count": null,
   "metadata": {},
   "outputs": [],
   "source": []
  }
 ],
 "metadata": {
  "kernelspec": {
   "display_name": "Python 3 (ipykernel)",
   "language": "python",
   "name": "python3"
  },
  "language_info": {
   "codemirror_mode": {
    "name": "ipython",
    "version": 3
   },
   "file_extension": ".py",
   "mimetype": "text/x-python",
   "name": "python",
   "nbconvert_exporter": "python",
   "pygments_lexer": "ipython3",
   "version": "3.6.9"
  }
 },
 "nbformat": 4,
 "nbformat_minor": 4
}
